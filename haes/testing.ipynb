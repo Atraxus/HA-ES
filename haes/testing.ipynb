{
 "cells": [
  {
   "cell_type": "markdown",
   "metadata": {},
   "source": [
    "# Testing\n",
    "\n",
    "This notebook contains tools used during development."
   ]
  },
  {
   "cell_type": "code",
   "execution_count": 2,
   "metadata": {},
   "outputs": [
    {
     "name": "stdout",
     "output_type": "stream",
     "text": [
      "Datasets (length: 100): ['Australian', 'Bioresponse', 'GAMETES_Epistasis_2-Way_1000atts_0_4H_EDM-1_EDM-1_1', 'GAMETES_Epistasis_2-Way_20atts_0_1H_EDM-1_1', 'GAMETES_Epistasis_2-Way_20atts_0_4H_EDM-1_1', 'GAMETES_Epistasis_3-Way_20atts_0_2H_EDM-1_1', 'GAMETES_Heterogeneity_20atts_1600_Het_0_4_0_2_50_EDM-2_001', 'GAMETES_Heterogeneity_20atts_1600_Het_0_4_0_2_75_EDM-2_001', 'Internet-Advertisements', 'LED-display-domain-7digit', 'MIP-2016-regression', 'Mercedes_Benz_Greener_Manufacturing', 'MiceProtein', 'Moneyball', 'OVA_Colon', 'OVA_Endometrium', 'OVA_Kidney', 'OVA_Lung', 'OVA_Ovary', 'OVA_Prostate', 'SAT11-HAND-runtime-regression', 'Titanic', 'UMIST_Faces_Cropped', 'abalone', 'analcatdata_authorship', 'analcatdata_dmft', 'arcene', 'arsenic-female-bladder', 'autoUniv-au1-1000', 'autoUniv-au6-750', 'autoUniv-au7-1100', 'autoUniv-au7-700', 'balance-scale', 'baseball', 'blood-transfusion-service-center', 'boston', 'boston_corrected', 'car', 'climate-model-simulation-crashes', 'cmc', 'cnae-9', 'colleges', 'colleges_usnews', 'credit-g', 'cylinder-bands', 'diabetes', 'dna', 'dresses-sales', 'eucalyptus', 'fri_c0_1000_5', 'fri_c0_500_5', 'fri_c1_1000_50', 'fri_c2_1000_25', 'fri_c2_500_50', 'fri_c3_1000_10', 'fri_c3_1000_25', 'fri_c3_500_10', 'fri_c3_500_50', 'fri_c4_500_100', 'gina', 'hill-valley', 'house_prices_nominal', 'ilpd', 'jasmine', 'kc1', 'kc2', 'kdd_el_nino-small', 'madeline', 'madelon', 'meta', 'micro-mass', 'no2', 'ozone-level-8hr', 'parity5_plus_5', 'pbcseq', 'pc1', 'pc3', 'pc4', 'pm10', 'qsar-biodeg', 'quake', 'rmftsa_ladata', 'sensory', 'socmob', 'soybean', 'space_ga', 'splice', 'synthetic_control', 'tecator', 'tokyo1', 'topo_2_1', 'us_crime', 'vehicle', 'volcanoes-a2', 'volcanoes-a3', 'volcanoes-a4', 'volcanoes-e1', 'wine-quality-red', 'wine_quality', 'yprop_4_1']\n"
     ]
    }
   ],
   "source": [
    "from tabrepo import load_repository, EvaluationRepository\n",
    "\n",
    "\n",
    "context_name = \"D244_F3_C1530_100\"\n",
    "repo: EvaluationRepository = load_repository(context_name, cache=True)\n",
    "datasets = repo.datasets()\n",
    "print(f\"Datasets (length: {len(datasets)}): {datasets}\")"
   ]
  },
  {
   "cell_type": "code",
   "execution_count": 10,
   "metadata": {},
   "outputs": [
    {
     "name": "stdout",
     "output_type": "stream",
     "text": [
      "Number of Classes: 0, Count of Datasets: 17\n",
      "Number of Classes: 2, Count of Datasets: 58\n",
      "Number of Classes: 3, Count of Datasets: 6\n",
      "Number of Classes: 4, Count of Datasets: 3\n",
      "Number of Classes: 5, Count of Datasets: 6\n",
      "Number of Classes: 6, Count of Datasets: 3\n",
      "Number of Classes: 8, Count of Datasets: 2\n",
      "Number of Classes: 9, Count of Datasets: 1\n",
      "Number of Classes: 10, Count of Datasets: 1\n",
      "Number of Classes: 19, Count of Datasets: 1\n",
      "Number of Classes: 20, Count of Datasets: 2\n"
     ]
    }
   ],
   "source": [
    "import numpy as np\n",
    "\n",
    "arr_number_of_classes = np.zeros(30)\n",
    "\n",
    "# Assuming 'datasets' and 'repo' are defined and usable as in your previous code snippet\n",
    "for dataset in datasets:\n",
    "    number_of_classes = int(repo.dataset_metadata(dataset=dataset)[\"NumberOfClasses\"])\n",
    "    if number_of_classes < 30:\n",
    "        arr_number_of_classes[number_of_classes] += 1\n",
    "    else:\n",
    "        print(\"Increase arr size\")\n",
    "        break\n",
    "\n",
    "# Print indices with their corresponding counts where the count is greater than 0\n",
    "for idx, count in enumerate(arr_number_of_classes):\n",
    "    if count > 0:\n",
    "        print(f\"Number of Classes: {idx}, Count of Datasets: {int(count)}\")\n"
   ]
  },
  {
   "cell_type": "code",
   "execution_count": null,
   "metadata": {},
   "outputs": [],
   "source": [
    "import os\n",
    "\n",
    "def check_files_for_numbers(directory, numbers):\n",
    "    # Create a dictionary to keep track of which numbers have been found\n",
    "    found = {str(number): [] for number in numbers}\n",
    "\n",
    "    # List all files in the given directory\n",
    "    try:\n",
    "        files = os.listdir(directory)\n",
    "    except FileNotFoundError:\n",
    "        print(f\"Directory '{directory}' does not exist.\")\n",
    "        return\n",
    "    except PermissionError:\n",
    "        print(f\"Permission denied to access '{directory}'.\")\n",
    "        return\n",
    "\n",
    "    # Check each file if it contains any of the numbers\n",
    "    for file in files:\n",
    "        for number in numbers:\n",
    "            if str(number) in file:\n",
    "                found[str(number)].append(file)\n",
    "\n",
    "    # Print out files that contain the numbers\n",
    "    for number in numbers:\n",
    "        if found[str(number)]:\n",
    "            print(f\"Files containing {number}: {', '.join(found[str(number)])}\")\n",
    "        else:\n",
    "            print(f\"No files found containing {number}\")\n",
    "\n",
    "task_numbers = []\n",
    "for dataset in datasets:\n",
    "    tid = repo.dataset_to_tid(dataset)\n",
    "    print(f\"{repo.tid_to_dataset(tid)}, TID: {tid}\")\n",
    "    task_numbers.append(\"_\" + str(tid) + \"_0\")\n",
    "check_files_for_numbers(\"results/seed_1/\", task_numbers)"
   ]
  }
 ],
 "metadata": {
  "kernelspec": {
   "display_name": "venv",
   "language": "python",
   "name": "python3"
  },
  "language_info": {
   "codemirror_mode": {
    "name": "ipython",
    "version": 3
   },
   "file_extension": ".py",
   "mimetype": "text/x-python",
   "name": "python",
   "nbconvert_exporter": "python",
   "pygments_lexer": "ipython3",
   "version": "3.10.14"
  }
 },
 "nbformat": 4,
 "nbformat_minor": 2
}
