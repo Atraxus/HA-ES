{
 "cells": [
  {
   "cell_type": "code",
   "execution_count": null,
   "metadata": {},
   "outputs": [],
   "source": [
    "from tabrepo import load_repository, EvaluationRepository, get_context\n",
    "from collections import Counter"
   ]
  },
  {
   "cell_type": "code",
   "execution_count": null,
   "metadata": {},
   "outputs": [],
   "source": [
    "context_name = \"D244_F3_C1530_100\"\n",
    "repo: EvaluationRepository = load_repository(context_name, cache=True)\n",
    "context = get_context(name=context_name)\n",
    "all_config_hyperparameters = context.load_configs_hyperparameters()\n",
    "datasets = repo.datasets()\n",
    "configs = repo.configs()\n",
    "folds = repo.folds\n",
    "\n",
    "repo.print_info()\n",
    "print(datasets)\n",
    "print(configs)\n",
    "print(folds)"
   ]
  },
  {
   "cell_type": "code",
   "execution_count": null,
   "metadata": {},
   "outputs": [],
   "source": [
    "problem_types = []\n",
    "for ds in datasets:\n",
    "    dataset_info = repo.dataset_info(dataset=ds)\n",
    "    problem_types.append(dataset_info['problem_type'])\n",
    "    \n",
    "Counter(problem_types)"
   ]
  },
  {
   "cell_type": "code",
   "execution_count": null,
   "metadata": {},
   "outputs": [],
   "source": [
    "num_classes_list = []\n",
    "for ds in datasets:\n",
    "    dataset_info = repo.dataset_info(dataset=ds)\n",
    "    if dataset_info['problem_type'] == 'multiclass':\n",
    "        dataset_metadata = repo.dataset_metadata(dataset=ds)\n",
    "        num_classes_list.append(dataset_metadata['NumberOfClasses'])\n",
    "\n",
    "print(dataset_metadata.keys())\n",
    "Counter(num_classes_list)"
   ]
  },
  {
   "cell_type": "code",
   "execution_count": null,
   "metadata": {},
   "outputs": [],
   "source": [
    "import pandas as pd\n",
    "import numpy as np\n",
    "import matplotlib.pyplot as plt\n",
    "from matplotlib.ticker import FuncFormatter\n",
    "\n",
    "# Collect metadata for all datasets\n",
    "all_datasets_metadata = []\n",
    "for ds in datasets:\n",
    "    dataset_info = repo.dataset_info(dataset=ds)\n",
    "    problem_type = dataset_info.get('problem_type')\n",
    "    # We only focus on classification datasets\n",
    "    if problem_type in ['binary', 'multiclass']:\n",
    "        dataset_metadata = repo.dataset_metadata(dataset=ds)\n",
    "        all_datasets_metadata.append({\n",
    "            'dataset': ds,\n",
    "            'problem_type': problem_type,\n",
    "            'n_samples': dataset_metadata.get('NumberOfInstances'),\n",
    "            'n_features': dataset_metadata.get('NumberOfFeatures'),\n",
    "            'n_classes': dataset_metadata.get('NumberOfClasses'),\n",
    "        })\n",
    "\n",
    "# Create a DataFrame from the collected metadata\n",
    "cls_df = pd.DataFrame(all_datasets_metadata)\n",
    "\n",
    "# Remove rows with NaN values\n",
    "clean_data = cls_df.dropna(subset=['n_samples', 'n_features', 'n_classes'])\n",
    "\n",
    "# Create the figure\n",
    "plt.figure(figsize=(8, 4))\n",
    "\n",
    "# Create the scatter plot with better visibility\n",
    "scatter = plt.scatter(clean_data['n_samples'], clean_data['n_features'], \n",
    "                     c=clean_data['n_classes'], cmap='magma_r',\n",
    "                     alpha=0.8, s=80, edgecolors='black', linewidth=0.8)\n",
    "\n",
    "# Set axis limits to focus on the main cluster of data (excluding extreme outliers)\n",
    "x_percentile_99 = np.percentile(clean_data['n_samples'], 99)\n",
    "y_percentile_99 = np.percentile(clean_data['n_features'], 99)\n",
    "\n",
    "plt.xlim(clean_data['n_samples'].min() * 0.8, x_percentile_99 * 2)\n",
    "plt.ylim(clean_data['n_features'].min() * 0.8, y_percentile_99 * 2)\n",
    "\n",
    "# Set log scales\n",
    "plt.xscale('log')\n",
    "plt.yscale('log')\n",
    "\n",
    "# Add colorbar\n",
    "cbar = plt.colorbar(scatter, label='Number of Classes')\n",
    "cbar.ax.yaxis.set_major_formatter(FuncFormatter(lambda x, pos: f'{int(x)}'))\n",
    "\n",
    "# Labels and title\n",
    "plt.xlabel('Number of Samples', fontsize=12)\n",
    "plt.ylabel('Number of Features', fontsize=12)\n",
    "\n",
    "# Add grid for better readability\n",
    "plt.grid(True, alpha=0.3, linestyle='-', linewidth=0.5)\n",
    "\n",
    "# Add some statistics as text\n",
    "n_datasets = len(clean_data)\n",
    "min_samples = clean_data['n_samples'].min()\n",
    "max_samples = clean_data['n_samples'].max()\n",
    "min_features = clean_data['n_features'].min()\n",
    "max_features = clean_data['n_features'].max()\n",
    "min_classes = clean_data['n_classes'].min()\n",
    "max_classes = clean_data['n_classes'].max()\n",
    "\n",
    "# Adjust layout and show\n",
    "plt.tight_layout()\n",
    "plt.savefig(\"../plots/tabrepo-datasets.pdf\", dpi=300)\n",
    "plt.savefig(\"../plots/tabrepo-datasets.png\", dpi=300)\n",
    "plt.show()\n"
   ]
  }
 ],
 "metadata": {
  "kernelspec": {
   "display_name": "HA-ES",
   "language": "python",
   "name": "python3"
  },
  "language_info": {
   "codemirror_mode": {
    "name": "ipython",
    "version": 3
   },
   "file_extension": ".py",
   "mimetype": "text/x-python",
   "name": "python",
   "nbconvert_exporter": "python",
   "pygments_lexer": "ipython3",
   "version": "3.10.17"
  }
 },
 "nbformat": 4,
 "nbformat_minor": 2
}
