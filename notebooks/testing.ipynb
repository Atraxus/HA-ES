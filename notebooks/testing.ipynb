{
 "cells": [
  {
   "cell_type": "markdown",
   "metadata": {},
   "source": [
    "# Testing\n",
    "\n",
    "This notebook contains tools used during development."
   ]
  },
  {
   "cell_type": "code",
   "execution_count": null,
   "metadata": {},
   "outputs": [],
   "source": [
    "from tabrepo import load_repository, EvaluationRepository\n",
    "\n",
    "\n",
    "context_name = \"D244_F3_C1530_100\"\n",
    "repo: EvaluationRepository = load_repository(context_name, cache=True)\n",
    "datasets = repo.datasets()\n",
    "print(f\"Datasets (length: {len(datasets)}): {datasets}\")"
   ]
  },
  {
   "cell_type": "code",
   "execution_count": null,
   "metadata": {},
   "outputs": [],
   "source": [
    "import numpy as np\n",
    "\n",
    "arr_number_of_classes = np.zeros(30)\n",
    "\n",
    "# Assuming 'datasets' and 'repo' are defined and usable as in your previous code snippet\n",
    "for dataset in datasets:\n",
    "    number_of_classes = int(repo.dataset_metadata(dataset=dataset)[\"NumberOfClasses\"])\n",
    "    if number_of_classes < 30:\n",
    "        arr_number_of_classes[number_of_classes] += 1\n",
    "    else:\n",
    "        print(\"Increase arr size\")\n",
    "        break\n",
    "\n",
    "# Print indices with their corresponding counts where the count is greater than 0\n",
    "for idx, count in enumerate(arr_number_of_classes):\n",
    "    if count > 0:\n",
    "        print(f\"Number of Classes: {idx}, Count of Datasets: {int(count)}\")\n"
   ]
  },
  {
   "cell_type": "code",
   "execution_count": null,
   "metadata": {},
   "outputs": [],
   "source": [
    "import os\n",
    "\n",
    "def check_files_for_numbers(directory, numbers):\n",
    "    # Create a dictionary to keep track of which numbers have been found\n",
    "    found = {str(number): [] for number in numbers}\n",
    "\n",
    "    # List all files in the given directory\n",
    "    try:\n",
    "        files = os.listdir(directory)\n",
    "    except FileNotFoundError:\n",
    "        print(f\"Directory '{directory}' does not exist.\")\n",
    "        return\n",
    "    except PermissionError:\n",
    "        print(f\"Permission denied to access '{directory}'.\")\n",
    "        return\n",
    "\n",
    "    # Check each file if it contains any of the numbers\n",
    "    for file in files:\n",
    "        for number in numbers:\n",
    "            if str(number) in file:\n",
    "                found[str(number)].append(file)\n",
    "\n",
    "    # Print out files that contain the numbers\n",
    "    for number in numbers:\n",
    "        if found[str(number)]:\n",
    "            print(f\"Files containing {number}: {', '.join(found[str(number)])}\")\n",
    "        else:\n",
    "            print(f\"No files found containing {number}\")\n",
    "\n",
    "task_numbers = []\n",
    "for dataset in datasets:\n",
    "    tid = repo.dataset_to_tid(dataset)\n",
    "    print(f\"{repo.tid_to_dataset(tid)}, TID: {tid}\")\n",
    "    task_numbers.append(\"_\" + str(tid) + \"_0\")\n",
    "check_files_for_numbers(\"results/seed_1/\", task_numbers)"
   ]
  }
 ],
 "metadata": {
  "kernelspec": {
   "display_name": "venv",
   "language": "python",
   "name": "python3"
  },
  "language_info": {
   "codemirror_mode": {
    "name": "ipython",
    "version": 3
   },
   "file_extension": ".py",
   "mimetype": "text/x-python",
   "name": "python",
   "nbconvert_exporter": "python",
   "pygments_lexer": "ipython3",
   "version": "3.10.14"
  }
 },
 "nbformat": 4,
 "nbformat_minor": 2
}
